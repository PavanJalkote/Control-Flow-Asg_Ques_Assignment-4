{
 "cells": [
  {
   "cell_type": "markdown",
   "id": "420df201",
   "metadata": {},
   "source": [
    "Basic If-Else Statements:"
   ]
  },
  {
   "cell_type": "markdown",
   "id": "c2bb58e9",
   "metadata": {},
   "source": [
    "1. Write a Python program to check if a given number is positive or negative"
   ]
  },
  {
   "cell_type": "code",
   "execution_count": 59,
   "id": "fa6afa15",
   "metadata": {},
   "outputs": [
    {
     "name": "stdout",
     "output_type": "stream",
     "text": [
      "The given number -5698 is negative\n"
     ]
    }
   ],
   "source": [
    "num = int(input(\"Enter a number: \"))\n",
    "\n",
    "if num > 0:\n",
    "    print(f\"The given number {num} is positive\")\n",
    "if num == 0:\n",
    "    print(f\"The given number {num} is Zero\")\n",
    "else:\n",
    "    print(f\"The given number {num} is negative\")"
   ]
  },
  {
   "cell_type": "markdown",
   "id": "68470c5c",
   "metadata": {},
   "source": [
    "2. Create a program that determines if a person is eligible to vote based on their age."
   ]
  },
  {
   "cell_type": "code",
   "execution_count": 4,
   "id": "8e82ce8f",
   "metadata": {},
   "outputs": [
    {
     "name": "stdout",
     "output_type": "stream",
     "text": [
      "Since your age is 28, you are eligible to vote\n"
     ]
    }
   ],
   "source": [
    "age = int(input('Enter your age: '))\n",
    "\n",
    "if age >= 18:\n",
    "    print(f\"Since your age is {age}, you are eligible to vote\")\n",
    "else:\n",
    "    print(\"Since your age is less than 18 years, you are not eligible to vote\")"
   ]
  },
  {
   "cell_type": "markdown",
   "id": "d204191a",
   "metadata": {},
   "source": [
    "3. Develop a program to find the maximum of two numbers using if-else statements."
   ]
  },
  {
   "cell_type": "code",
   "execution_count": 5,
   "id": "c097dca3",
   "metadata": {},
   "outputs": [
    {
     "name": "stdout",
     "output_type": "stream",
     "text": [
      "69 is greater than 55\n"
     ]
    }
   ],
   "source": [
    "num1 = int(input('Enter first number: '))\n",
    "num2 = int(input('Enter second number: '))\n",
    "\n",
    "if num1 > num2:\n",
    "    print(f\"{num1} is greater than {num2}\")\n",
    "else:\n",
    "    print(f\"{num2} is greater than {num1}\")\n"
   ]
  },
  {
   "cell_type": "markdown",
   "id": "61e12b98",
   "metadata": {},
   "source": [
    "4. Write a Python script to classify a given year as a leap year or not."
   ]
  },
  {
   "cell_type": "code",
   "execution_count": 6,
   "id": "ba33d030",
   "metadata": {},
   "outputs": [
    {
     "name": "stdout",
     "output_type": "stream",
     "text": [
      "The year 1996 is a leap year.\n"
     ]
    }
   ],
   "source": [
    "year = int(input('Enter the year: '))\n",
    "\n",
    "if year % 400 == 0 and year % 100 == 0:\n",
    "    print(f'The year {year} is a leap year.')\n",
    "elif year % 4 == 0 and year % 100 != 0:\n",
    "    print(f'The year {year} is a leap year.')\n",
    "else:\n",
    "    print(f'The year {year} is not a leap year.')"
   ]
  },
  {
   "cell_type": "markdown",
   "id": "bca2d651",
   "metadata": {},
   "source": [
    "5. Create a program that checks whether a character is a vowel or a consonant."
   ]
  },
  {
   "cell_type": "code",
   "execution_count": 12,
   "id": "6f3f3d06",
   "metadata": {},
   "outputs": [
    {
     "name": "stdout",
     "output_type": "stream",
     "text": [
      "The given character is consonent\n"
     ]
    }
   ],
   "source": [
    "char = str(input('Enter the character to check: '))\n",
    "\n",
    "if char in \"AEIOUaeiou\":\n",
    "    print(\"The given character is vowel\")\n",
    "else:\n",
    "    print(\"The given character is consonent\")"
   ]
  },
  {
   "cell_type": "markdown",
   "id": "053242aa",
   "metadata": {},
   "source": [
    "6. Implement a program to determine whether a given number is even or odd."
   ]
  },
  {
   "cell_type": "code",
   "execution_count": 13,
   "id": "c738f90b",
   "metadata": {},
   "outputs": [
    {
     "name": "stdout",
     "output_type": "stream",
     "text": [
      "The given number 55 is odd number\n"
     ]
    }
   ],
   "source": [
    "a = int(input(\"Enter a number: \"))\n",
    "\n",
    "if a % 2 == 0:\n",
    "    print(f\"The given number {a} is even number\")\n",
    "else:\n",
    "    print(f\"The given number {a} is odd number\")"
   ]
  },
  {
   "cell_type": "markdown",
   "id": "68761e9b",
   "metadata": {},
   "source": [
    "7. Write a Python function to calculate the absolute value of a number without using the `abs()` function."
   ]
  },
  {
   "cell_type": "code",
   "execution_count": 14,
   "id": "56c84901",
   "metadata": {},
   "outputs": [
    {
     "name": "stdout",
     "output_type": "stream",
     "text": [
      "The given number is -563\n",
      "The absolute value of given number is 563\n"
     ]
    }
   ],
   "source": [
    "num = int(input(\"Enter the number: \"))\n",
    "\n",
    "absolute_number = abs(num)\n",
    "\n",
    "print(f\"The given number is {num}\")\n",
    "\n",
    "print(f\"The absolute value of given number is {absolute_number}\")"
   ]
  },
  {
   "cell_type": "markdown",
   "id": "13c934e3",
   "metadata": {},
   "source": [
    "8. Develop a program that determines the largest of three given numbers using if-else statements."
   ]
  },
  {
   "cell_type": "code",
   "execution_count": 16,
   "id": "f630a107",
   "metadata": {},
   "outputs": [
    {
     "name": "stdout",
     "output_type": "stream",
     "text": [
      "96 is greater than 5 and 25\n"
     ]
    }
   ],
   "source": [
    "num1 = int(input('Enter first number: '))\n",
    "num2 = int(input('Enter second number: '))\n",
    "num3 = int(input('Enter third number: '))\n",
    "\n",
    "if num1 > num2 and num1 > num3:\n",
    "    print(f\"{num1} is greater than {num2} and {num3}\")\n",
    "if num2 > num3 and num2 > num1:\n",
    "    print(f\"{num2} is greater than {num1} and {num3}\")\n",
    "else:\n",
    "    print(f\"{num3} is greater than {num2} and {num1}\")"
   ]
  },
  {
   "cell_type": "markdown",
   "id": "40a7424a",
   "metadata": {},
   "source": [
    "9. Create a program that checks if a given string is a palindrome"
   ]
  },
  {
   "cell_type": "code",
   "execution_count": 19,
   "id": "7d6a2a77",
   "metadata": {},
   "outputs": [
    {
     "name": "stdout",
     "output_type": "stream",
     "text": [
      "The given string is Palindrome.\n"
     ]
    }
   ],
   "source": [
    "a = str(input(\"Enter the string you want to check for Palindrome: \"))\n",
    "a = a.lower()\n",
    "b = a[::-1]\n",
    "\n",
    "if a == b:\n",
    "    print('The given string is Palindrome.')\n",
    "else:\n",
    "    print('The given string is not a Palindrome.')"
   ]
  },
  {
   "cell_type": "markdown",
   "id": "f6e9604d",
   "metadata": {},
   "source": [
    "10. Write a Python program to calculate the grade based on a student's score."
   ]
  },
  {
   "cell_type": "code",
   "execution_count": 22,
   "id": "c2160789",
   "metadata": {},
   "outputs": [
    {
     "name": "stdout",
     "output_type": "stream",
     "text": [
      "The grade obtained for 55 is C\n"
     ]
    }
   ],
   "source": [
    "a = int(input(\"Enter the percentage score of student: \"))\n",
    "\n",
    "if a >= 90:\n",
    "    print(f\"The grade obtained for {a} is A+\")\n",
    "if a < 90 and a >= 80:\n",
    "    print(f\"The grade obtained for {a} is A\")\n",
    "if a < 80 and a >= 75:\n",
    "    print(f\"The grade obtained for {a} is B+\")\n",
    "if a < 75 and a >= 70:\n",
    "    print(f\"The grade obtained for {a} is B\")\n",
    "if a < 70 and a >= 60:\n",
    "    print(f\"The grade obtained for {a} is C+\")\n",
    "if a < 60 and a >= 55:\n",
    "    print(f\"The grade obtained for {a} is C\")\n",
    "if a < 55 and a >= 50:\n",
    "    print(f\"The grade obtained for {a} is D+\")\n",
    "if a < 50 and a >= 45:\n",
    "    print(f\"The grade obtained for {a} is D\")\n",
    "if a < 45 and a >= 40:\n",
    "    print(f\"The grade obtained for {a} is E\")\n",
    "if a < 40:\n",
    "    print(f\"The percentage score {a} obtained is very less and hence you have failed in the Exam.\")\n"
   ]
  },
  {
   "cell_type": "markdown",
   "id": "f245d586",
   "metadata": {},
   "source": [
    "Nested If-Else Statements:"
   ]
  },
  {
   "cell_type": "markdown",
   "id": "30c60b7d",
   "metadata": {},
   "source": [
    "11. Write a program to find the largest among three numbers using nested if-else statements."
   ]
  },
  {
   "cell_type": "code",
   "execution_count": 23,
   "id": "a2f4e13c",
   "metadata": {},
   "outputs": [
    {
     "name": "stdout",
     "output_type": "stream",
     "text": [
      "Largest number is 95.0\n"
     ]
    }
   ],
   "source": [
    "num1 = float(input(\"Enter first number: \"))\n",
    "num2 = float(input('Enter second number: '))\n",
    "num3 = float(input(\"Enter third number: \"))\n",
    "\n",
    "if num1 > num2:\n",
    "    if num1 > num3:\n",
    "        print(f\"Largest number is {num1}\")\n",
    "    else:\n",
    "        print(f\"Largest number is {num3}\")\n",
    "else:\n",
    "    if num2 > num3:\n",
    "        print(f\"Largest number is {num2}\")\n",
    "    else:\n",
    "        print(f\"Largest number is {num3}\")    "
   ]
  },
  {
   "cell_type": "markdown",
   "id": "7932f610",
   "metadata": {},
   "source": [
    "12. Implement a program to determine if a triangle is equilateral, isosceles, or scalene."
   ]
  },
  {
   "cell_type": "code",
   "execution_count": 27,
   "id": "6944073a",
   "metadata": {},
   "outputs": [
    {
     "name": "stdout",
     "output_type": "stream",
     "text": [
      "The traingle is scalene traingle.\n"
     ]
    }
   ],
   "source": [
    "side1 = float(input(\"Enter the length of first side: \"))\n",
    "side2 = float(input(\"Enter the length of second side: \"))\n",
    "side3 = float(input(\"Enter the length of third side: \"))\n",
    "\n",
    "if side1 == side2 or side2 == side3 or side1 == side3:\n",
    "    print(\"The traingle is isosceles traingle.\")\n",
    "    if side1 == side2 == side3:\n",
    "        print(\"The trainlge is equilateral traingle too.\")\n",
    "else:\n",
    "    print(\"The traingle is scalene traingle.\")"
   ]
  },
  {
   "cell_type": "markdown",
   "id": "3caeb17c",
   "metadata": {},
   "source": [
    "13. Develop a program that checks if a year is a leap year and also if it is a century year."
   ]
  },
  {
   "cell_type": "code",
   "execution_count": 29,
   "id": "a962efb7",
   "metadata": {},
   "outputs": [
    {
     "name": "stdout",
     "output_type": "stream",
     "text": [
      "The year 1996 is a leap year.\n"
     ]
    }
   ],
   "source": [
    "year = int(input(\"Enter the year: \"))\n",
    "\n",
    "if year % 100 == 0:\n",
    "    print(f\"The year {year} is a century year.\")\n",
    "    if year % 400 == 0:\n",
    "        print(f\"The year {year} is a leap year too.\")\n",
    "elif year % 4 == 0 and year % 100 != 0:\n",
    "    print(f\"The year {year} is a leap year.\")\n",
    "else:\n",
    "    print(f\"The year {year} is neither a leap year nor a century year.\")"
   ]
  },
  {
   "cell_type": "markdown",
   "id": "2313da0b",
   "metadata": {},
   "source": [
    "14. Write a Python script to determine if a number is positive, negative, or zero."
   ]
  },
  {
   "cell_type": "code",
   "execution_count": 30,
   "id": "74ee57e6",
   "metadata": {},
   "outputs": [
    {
     "name": "stdout",
     "output_type": "stream",
     "text": [
      "The given number -25.0 is negative.\n"
     ]
    }
   ],
   "source": [
    "num = float(input(\"Enter the number: \"))\n",
    "\n",
    "if num >= 0:\n",
    "    if num > 0:\n",
    "        print(f\"The given number {num} is positive.\")\n",
    "    if num == 0:\n",
    "        print(\"The given number is Zero.\")\n",
    "else:\n",
    "    print(f\"The given number {num} is negative.\")"
   ]
  },
  {
   "cell_type": "markdown",
   "id": "6532aacf",
   "metadata": {},
   "source": [
    "15. Create a program to check if a person is a teenager (between 13 and 19 years old)"
   ]
  },
  {
   "cell_type": "code",
   "execution_count": 32,
   "id": "3a9a627d",
   "metadata": {},
   "outputs": [
    {
     "name": "stdout",
     "output_type": "stream",
     "text": [
      "The person is not a teenager.\n"
     ]
    }
   ],
   "source": [
    "age = float(input(\"Enter the age of the person: \"))\n",
    "\n",
    "if 13 <= age <= 19:\n",
    "    print(\"The person is a teenager\")\n",
    "elif age < 13:\n",
    "    print(\"The person is  not a teenager.\")\n",
    "else:\n",
    "    print(\"The person is not a teenager.\")\n"
   ]
  },
  {
   "cell_type": "markdown",
   "id": "f09382c2",
   "metadata": {},
   "source": [
    "16. Develop a program that determines the type of angle based on its measure (acute, obtuse, or right)."
   ]
  },
  {
   "cell_type": "code",
   "execution_count": 33,
   "id": "f564cc6a",
   "metadata": {},
   "outputs": [
    {
     "name": "stdout",
     "output_type": "stream",
     "text": [
      "The given angle 96.0 is obtuse angle\n"
     ]
    }
   ],
   "source": [
    "angle = float(input('Enter the measure of angle: '))\n",
    "\n",
    "if angle <= 90:\n",
    "    if angle < 90:\n",
    "        print(f\"The giveb angle {angle} is acute angle\")\n",
    "    if angle == 90:\n",
    "        print(f\"The giveb angle {angle} is right angle\")\n",
    "elif angle > 90:\n",
    "    print(f\"The given angle {angle} is obtuse angle\")"
   ]
  },
  {
   "cell_type": "markdown",
   "id": "e4b6c01f",
   "metadata": {},
   "source": [
    "17. Write a Python program to calculate the roots of a quadratic equation."
   ]
  },
  {
   "cell_type": "code",
   "execution_count": 35,
   "id": "bc0850ac",
   "metadata": {},
   "outputs": [
    {
     "name": "stdout",
     "output_type": "stream",
     "text": [
      "The roots of the quadratic equation 2.0x^2+6.0x+9.0 = 0 are -10.5 and 7.5\n"
     ]
    }
   ],
   "source": [
    "a = float(input(\"Enter the value of a for ax^2+bx+c=0: \"))\n",
    "b = float(input(\"Enter the value of b for ax^2+bx+c=0: \"))\n",
    "c = float(input(\"Enter the value of c for ax^2+bx+c=0: \"))\n",
    "\n",
    "root1 = (-b+(b**2-4*a*c))/(2*a)\n",
    "root2 = (-b-(b**2-4*a*c))/(2*a)\n",
    "\n",
    "print(f\"The roots of the quadratic equation {a}x^2+{b}x+{c} = 0 are {root1} and {root2}\")"
   ]
  },
  {
   "cell_type": "markdown",
   "id": "811a3e5d",
   "metadata": {},
   "source": [
    "18. Implement a program to determine the day of the week based on a user-provided number (1 for Monday, 2 for Tuesday, etc.)."
   ]
  },
  {
   "cell_type": "code",
   "execution_count": 36,
   "id": "db926698",
   "metadata": {},
   "outputs": [
    {
     "name": "stdout",
     "output_type": "stream",
     "text": [
      "The day of the week corresponding to the number 1 is Monday\n"
     ]
    }
   ],
   "source": [
    "day_number = int(input(\"Enter a number (1-7) to represent a day of the week: \"))\n",
    "\n",
    "day_names = {\n",
    "    1: \"Monday\",\n",
    "    2: \"Tuesday\",\n",
    "    3: \"Wednesday\",\n",
    "    4: \"Thursday\",\n",
    "    5: \"Friday\",\n",
    "    6: \"Saturday\",\n",
    "    7: \"Sunday\"\n",
    "}\n",
    "\n",
    "if 1 <= day_number <= 7:\n",
    "    day_name = day_names[day_number]\n",
    "    print(\"The day of the week corresponding to the number\", day_number, \"is\", day_name)\n",
    "else:\n",
    "    print(\"Invalid input. Please enter a number between 1 and 7 to represent a day of the week.\")\n"
   ]
  },
  {
   "cell_type": "markdown",
   "id": "c7f9507f",
   "metadata": {},
   "source": [
    "19. Create a program that determines if a year is a leap year and also if it is evenly divisible by 400"
   ]
  },
  {
   "cell_type": "code",
   "execution_count": 37,
   "id": "0a823bf4",
   "metadata": {},
   "outputs": [
    {
     "name": "stdout",
     "output_type": "stream",
     "text": [
      "The year 2000 is a evenly divisible by 400.\n",
      "The year 2000 is a leap year too.\n"
     ]
    }
   ],
   "source": [
    "year = int(input(\"Enter the year: \"))\n",
    "\n",
    "if year % 400 == 0:\n",
    "    print(f\"The year {year} is a evenly divisible by 400.\")\n",
    "    if year % 100 == 0:\n",
    "        print(f\"The year {year} is a leap year too.\")\n",
    "elif year % 4 == 0 and year % 100 != 0:\n",
    "    print(f\"The year {year} is a leap year.\")\n",
    "else:\n",
    "    print(f\"The year {year} is neither a leap year nor a century year.\")"
   ]
  },
  {
   "cell_type": "markdown",
   "id": "f44f679e",
   "metadata": {},
   "source": [
    "20. Develop a program that checks if a given number is prime or not using nested if-else statements"
   ]
  },
  {
   "cell_type": "code",
   "execution_count": 38,
   "id": "cbcff9f1",
   "metadata": {},
   "outputs": [
    {
     "name": "stdout",
     "output_type": "stream",
     "text": [
      "25 is not a prime number.\n"
     ]
    }
   ],
   "source": [
    "num = int(input(\"Enter a number: \"))\n",
    "\n",
    "if num < 2:\n",
    "    is_prime = False\n",
    "else:\n",
    "    is_prime = True\n",
    "\n",
    "    for i in range(2, int(num**0.5) + 1):\n",
    "        if num % i == 0:\n",
    "            is_prime = False\n",
    "            break\n",
    "\n",
    "if is_prime:\n",
    "    print(num, \"is a prime number.\")\n",
    "else:\n",
    "    print(num, \"is not a prime number.\")\n"
   ]
  },
  {
   "cell_type": "markdown",
   "id": "ea973454",
   "metadata": {},
   "source": [
    "Elif Statements:"
   ]
  },
  {
   "cell_type": "markdown",
   "id": "fba190be",
   "metadata": {},
   "source": [
    "21. Write a Python program to assign grades based on different ranges of scores using elif statements"
   ]
  },
  {
   "cell_type": "code",
   "execution_count": 39,
   "id": "13ad2ad4",
   "metadata": {},
   "outputs": [
    {
     "name": "stdout",
     "output_type": "stream",
     "text": [
      "The grade obtained for 83 is A\n"
     ]
    }
   ],
   "source": [
    "a = int(input(\"Enter the percentage score of student: \"))\n",
    "\n",
    "if a >= 90:\n",
    "    print(f\"The grade obtained for {a} is A+\")\n",
    "elif a < 90 and a >= 80:\n",
    "    print(f\"The grade obtained for {a} is A\")\n",
    "elif a < 80 and a >= 75:\n",
    "    print(f\"The grade obtained for {a} is B+\")\n",
    "elif a < 75 and a >= 70:\n",
    "    print(f\"The grade obtained for {a} is B\")\n",
    "elif a < 70 and a >= 60:\n",
    "    print(f\"The grade obtained for {a} is C+\")\n",
    "elif a < 60 and a >= 55:\n",
    "    print(f\"The grade obtained for {a} is C\")\n",
    "elif a < 55 and a >= 50:\n",
    "    print(f\"The grade obtained for {a} is D+\")\n",
    "elif a < 50 and a >= 45:\n",
    "    print(f\"The grade obtained for {a} is D\")\n",
    "elif a < 45 and a >= 40:\n",
    "    print(f\"The grade obtained for {a} is E\")\n",
    "elif a < 40:\n",
    "    print(f\"The percentage score {a} obtained is very less and hence you have failed in the Exam.\")"
   ]
  },
  {
   "cell_type": "markdown",
   "id": "f704c2b9",
   "metadata": {},
   "source": [
    "22. Implement a program to determine the type of a triangle based on its angles."
   ]
  },
  {
   "cell_type": "code",
   "execution_count": 40,
   "id": "66900da3",
   "metadata": {},
   "outputs": [
    {
     "name": "stdout",
     "output_type": "stream",
     "text": [
      "The traingle is right angled traingle.\n"
     ]
    }
   ],
   "source": [
    "a = int(input(\"Enter the measure of first angle: \"))\n",
    "b = int(input(\"Enter the measure of second angle: \"))\n",
    "c = int(input(\"Enter the measure of third angle: \"))\n",
    "\n",
    "if a == 90 or b == 90 or c == 90:\n",
    "    print(\"The traingle is right angled traingle.\")\n",
    "elif a > 90 or b > 90 or c > 90:\n",
    "    print(\"The trianle is obtuse angled trainle.\")\n",
    "elif a == b or b == c or a == c:\n",
    "    print(\"The traingle is isoscales traingle.\")\n",
    "elif a < 90 or b < 90 or c < 90:\n",
    "    print(\"The traingle is acute angled traingle.\")"
   ]
  },
  {
   "cell_type": "markdown",
   "id": "223d582d",
   "metadata": {},
   "source": [
    "23. Develop a program to categorize a given person's BMI into underweight, normal, overweight, or obese using elif statements."
   ]
  },
  {
   "cell_type": "code",
   "execution_count": 42,
   "id": "3b3b8bee",
   "metadata": {},
   "outputs": [
    {
     "name": "stdout",
     "output_type": "stream",
     "text": [
      "Your weight is 67.0 Kgs\n",
      "Your height is 1.63 cms\n",
      "As per your weight and height, your BMI is 25.21735857578381\n",
      "Since your BMI is 25.21735857578381 which is between 24.9 and 29.9, you are overweight.\n"
     ]
    }
   ],
   "source": [
    "weight = float(input(\"Enter your weight in Kg: \"))\n",
    "print(f\"Your weight is {weight} Kgs\")\n",
    "height = float(input(\"Enter your height in meters: \"))\n",
    "print(f\"Your height is {height} cms\")\n",
    "\n",
    "BMI = (weight) / (height**2)\n",
    "print(f\"As per your weight and height, your BMI is {BMI}\")\n",
    "\n",
    "if BMI < 18.5:\n",
    "    print(f\"Since your BMI is {BMI} which is less than 18.5, you are underweight.\")\n",
    "elif 18.5 <= BMI <= 24.9:\n",
    "    print(f\"Since your BMI is {BMI} which is between 18.5 and 24.9, you are in healthy weight range.\")\n",
    "elif 25 <= BMI <= 29.9:\n",
    "    print(f\"Since your BMI is {BMI} which is between 24.9 and 29.9, you are overweight.\")\n",
    "else:\n",
    "    print(f\"Since your BMI is {BMI} which is more than 30.0, you are having obesity.\")"
   ]
  },
  {
   "cell_type": "markdown",
   "id": "544d2bd9",
   "metadata": {},
   "source": [
    "24. Create a program that determines whether a given number is positive, negative, or zero using elif statements."
   ]
  },
  {
   "cell_type": "code",
   "execution_count": 43,
   "id": "99ab20b5",
   "metadata": {},
   "outputs": [
    {
     "name": "stdout",
     "output_type": "stream",
     "text": [
      "The given number is positive.\n"
     ]
    }
   ],
   "source": [
    "a = float(input(\"Enter a number: \"))\n",
    "\n",
    "if a == 0:\n",
    "    print(\"The given number is Zero.\")\n",
    "elif a > 0:\n",
    "    print(\"The given number is positive.\")\n",
    "else:\n",
    "    print(\"The given number is negative.\")"
   ]
  },
  {
   "cell_type": "markdown",
   "id": "a436f661",
   "metadata": {},
   "source": [
    "25. Write a Python script to determine the type of a character (uppercase, lowercase, or special) using elif statements."
   ]
  },
  {
   "cell_type": "code",
   "execution_count": 48,
   "id": "26703329",
   "metadata": {},
   "outputs": [
    {
     "name": "stdout",
     "output_type": "stream",
     "text": [
      "The given character @ is a special character or not an alphabet.\n"
     ]
    }
   ],
   "source": [
    "char = input(\"Enter the character: \")\n",
    "\n",
    "if char.isalpha():\n",
    "    if char.isupper():\n",
    "        print(f\"The given character {char} is uppercase.\")\n",
    "    elif char.islower():\n",
    "        print(f\"The given character {char} is lowercase.\")\n",
    "else:\n",
    "    print(f\"The given character {char} is a special character or not an alphabet.\")"
   ]
  },
  {
   "cell_type": "markdown",
   "id": "994793f3",
   "metadata": {},
   "source": [
    "26. Implement a program to calculate the discounted price based on different purchase amounts using elif statements."
   ]
  },
  {
   "cell_type": "code",
   "execution_count": 49,
   "id": "50ddb785",
   "metadata": {},
   "outputs": [
    {
     "name": "stdout",
     "output_type": "stream",
     "text": [
      "Total amount is: 60000.0\n",
      "Total discount is: 18000.0\n",
      "Total amount to be paid is: 42000.0\n"
     ]
    }
   ],
   "source": [
    "amount = float(input(\"Enter the total amount: \"))\n",
    "\n",
    "if 0 <= amount <= 5000:\n",
    "    dis = amount * 0.05\n",
    "elif 5000 < amount <= 15000:\n",
    "    dis = amount * 0.12\n",
    "elif 15000 < amount <= 25000:\n",
    "    dis = amount * 0.20\n",
    "elif amount > 25000:\n",
    "    dis = amount * 0.30\n",
    "\n",
    "final_amount_to_be_paid = amount - dis\n",
    "\n",
    "print(f\"Total amount is: {amount}\")\n",
    "print(f\"Total discount is: {dis}\")\n",
    "print(f\"Total amount to be paid is: {final_amount_to_be_paid}\")\n"
   ]
  },
  {
   "cell_type": "markdown",
   "id": "ef11180b",
   "metadata": {},
   "source": [
    "27. Develop a program to calculate the electricity bill based on different consumption slabs using elif statements."
   ]
  },
  {
   "cell_type": "code",
   "execution_count": 50,
   "id": "1c31bb31",
   "metadata": {},
   "outputs": [
    {
     "name": "stdout",
     "output_type": "stream",
     "text": [
      "Total units consumed in the month are 306.0 units.\n",
      "The total electricity bill to be paid is 4164.66 Rs.\n"
     ]
    }
   ],
   "source": [
    "units = float(input(\"Enter the total units consumed in the month: \"))\n",
    "\n",
    "if 0 <= units <= 100:\n",
    "    bill = units * 4.41\n",
    "elif 101 <= units <= 300:\n",
    "    bill = units * 9.64\n",
    "elif 301 <= units <= 500:\n",
    "    bill = units * 13.61\n",
    "elif 501 <= units <= 1000:\n",
    "    bill = units * 15.57\n",
    "elif units > 1000:\n",
    "    bill = units * 15.57\n",
    "\n",
    "print(f\"Total units consumed in the month are {units} units.\")\n",
    "print(f\"The total electricity bill to be paid is {bill} Rs.\")"
   ]
  },
  {
   "cell_type": "markdown",
   "id": "ff55fea7",
   "metadata": {},
   "source": [
    "28. Create a program to determine the type of quadrilateral based on its angles and sides using elif statements."
   ]
  },
  {
   "cell_type": "code",
   "execution_count": 51,
   "id": "6d2b6a9f",
   "metadata": {},
   "outputs": [
    {
     "name": "stdout",
     "output_type": "stream",
     "text": [
      "The quadrilateral is a rectangle.\n"
     ]
    }
   ],
   "source": [
    "side1 = float(input(\"Enter the length of side 1: \"))\n",
    "side2 = float(input(\"Enter the length of side 2: \"))\n",
    "side3 = float(input(\"Enter the length of side 3: \"))\n",
    "side4 = float(input(\"Enter the length of side 4: \"))\n",
    "\n",
    "angle1 = float(input(\"Enter the measure of angle 1 (in degrees): \"))\n",
    "angle2 = float(input(\"Enter the measure of angle 2 (in degrees): \"))\n",
    "angle3 = float(input(\"Enter the measure of angle 3 (in degrees): \"))\n",
    "angle4 = float(input(\"Enter the measure of angle 4 (in degrees): \"))\n",
    "\n",
    "if side1 == side2 == side3 == side4:\n",
    "    if angle1 == angle2 == angle3 == angle4 == 90:\n",
    "        print(\"The quadrilateral is a square.\")\n",
    "    else:\n",
    "        print(\"The quadrilateral is a rectangle.\")\n",
    "elif (angle1 == angle2 == angle3 == angle4 == 90) and (side1 != side2 or side2 != side3 or side3 != side4):\n",
    "    print(\"The quadrilateral is a rectangle (but not a square).\")\n",
    "elif (side1 == side3 and side2 == side4) or (side1 == side2 and side3 == side4):\n",
    "    print(\"The quadrilateral is a parallelogram.\")\n",
    "else:\n",
    "    print(\"The quadrilateral is neither a square, rectangle, nor parallelogram.\")"
   ]
  },
  {
   "cell_type": "markdown",
   "id": "c2df6d90",
   "metadata": {},
   "source": [
    "29. Write a Python script to determine the season based on a user-provided month using elif statements."
   ]
  },
  {
   "cell_type": "code",
   "execution_count": 57,
   "id": "71d314b8",
   "metadata": {},
   "outputs": [
    {
     "name": "stdout",
     "output_type": "stream",
     "text": [
      "You have entered March month.\n",
      "The season is summer season.\n"
     ]
    }
   ],
   "source": [
    "month = input(\"Enter the name of the month: \")\n",
    "print(f\"You have entered {month} month.\")\n",
    "month = month.lower()\n",
    "\n",
    "if month in ['february', 'march', 'april', 'may']:\n",
    "    print(\"The season is summer season.\")\n",
    "elif month in ['june', 'july', 'august', 'september']:\n",
    "    print(\"The season is rainy season.\")\n",
    "elif month in ['october', 'november', 'december', 'january']:\n",
    "    print(\"The season is winter season.\")\n",
    "else:\n",
    "    print(\"Invalid month.\")\n"
   ]
  },
  {
   "cell_type": "markdown",
   "id": "3d9c2995",
   "metadata": {},
   "source": [
    "30. Implement a program to determine the type of a year (leap or common) and month (30 or 31 days) using elif statements."
   ]
  },
  {
   "cell_type": "code",
   "execution_count": 58,
   "id": "efd4940f",
   "metadata": {},
   "outputs": [
    {
     "name": "stdout",
     "output_type": "stream",
     "text": [
      "1998 is a common year.\n",
      "March has 31 days.\n"
     ]
    }
   ],
   "source": [
    "year = int(input(\"Enter a year: \"))\n",
    "\n",
    "month = input(\"Enter a month (e.g., January, February, etc.): \")\n",
    "\n",
    "month = month.lower()\n",
    "\n",
    "if (year % 4 == 0 and year % 100 != 0) or (year % 400 == 0):\n",
    "    is_leap_year = True\n",
    "else:\n",
    "    is_leap_year = False\n",
    "\n",
    "if month in [\"january\", \"march\", \"may\", \"july\", \"august\", \"october\", \"december\"]:\n",
    "    num_days = 31\n",
    "elif month in [\"april\", \"june\", \"september\", \"november\"]:\n",
    "    num_days = 30\n",
    "elif month == \"february\":\n",
    "    num_days = 29 if is_leap_year else 28\n",
    "else:\n",
    "    num_days = None  \n",
    "\n",
    "if is_leap_year:\n",
    "    print(f\"{year} is a leap year.\")\n",
    "else:\n",
    "    print(f\"{year} is a common year.\")\n",
    "\n",
    "if num_days is not None:\n",
    "    print(f\"{month.capitalize()} has {num_days} days.\")\n",
    "else:\n",
    "    print(\"Invalid input. Please enter a valid month name.\")"
   ]
  },
  {
   "cell_type": "markdown",
   "id": "c7cde4e9",
   "metadata": {},
   "source": [
    "Basic Level:"
   ]
  },
  {
   "cell_type": "markdown",
   "id": "e5e83222",
   "metadata": {},
   "source": [
    "1. Write a Python program that checks if a given number is positive, negative, or zero."
   ]
  },
  {
   "cell_type": "code",
   "execution_count": 60,
   "id": "c8474bec",
   "metadata": {},
   "outputs": [
    {
     "name": "stdout",
     "output_type": "stream",
     "text": [
      "The given number 98563214 is positive\n"
     ]
    }
   ],
   "source": [
    "num = int(input(\"Enter a number: \"))\n",
    "\n",
    "if num > 0:\n",
    "    print(f\"The given number {num} is positive\")\n",
    "elif num == 0:\n",
    "    print(f\"The given number {num} is Zero\")\n",
    "else:\n",
    "    print(f\"The given number {num} is negative\")"
   ]
  },
  {
   "cell_type": "markdown",
   "id": "eaf5586a",
   "metadata": {},
   "source": [
    "2. Create a program to determine if a person is eligible to vote based on their age."
   ]
  },
  {
   "cell_type": "code",
   "execution_count": 62,
   "id": "0a77402d",
   "metadata": {},
   "outputs": [
    {
     "name": "stdout",
     "output_type": "stream",
     "text": [
      "Since your age is 25.6, you are eligible to vote\n"
     ]
    }
   ],
   "source": [
    "age = float(input('Enter your age: '))\n",
    "\n",
    "if age >= 18:\n",
    "    print(f\"Since your age is {age}, you are eligible to vote\")\n",
    "else:\n",
    "    print(\"Since your age is less than 18 years, you are not eligible to vote\")"
   ]
  },
  {
   "cell_type": "markdown",
   "id": "e4253121",
   "metadata": {},
   "source": [
    "3. Write a program to find the maximum of two given numbers using conditional statements."
   ]
  },
  {
   "cell_type": "code",
   "execution_count": 63,
   "id": "c0d8efa0",
   "metadata": {},
   "outputs": [
    {
     "name": "stdout",
     "output_type": "stream",
     "text": [
      "88.0 is greater than 33.0\n"
     ]
    }
   ],
   "source": [
    "num1 = float(input(\"Enter first number: \"))\n",
    "num2 = float(input(\"Enter second number: \"))\n",
    "\n",
    "if num1 > num2:\n",
    "    print(f\"{num1} is greater than {num2}\")\n",
    "elif num2 > num1:\n",
    "    print(f\"{num2} is greater than {num1}\")\n",
    "else:\n",
    "    print(\"Both the numbers are same.\")"
   ]
  },
  {
   "cell_type": "markdown",
   "id": "687ee5a4",
   "metadata": {},
   "source": [
    "4. Develop a program that calculates the grade of a student based on their exam score."
   ]
  },
  {
   "cell_type": "code",
   "execution_count": 64,
   "id": "9469221a",
   "metadata": {},
   "outputs": [
    {
     "name": "stdout",
     "output_type": "stream",
     "text": [
      "The grade obtained for 62 is C+\n"
     ]
    }
   ],
   "source": [
    "a = int(input(\"Enter the percentage score of student: \"))\n",
    "\n",
    "if a >= 90:\n",
    "    print(f\"The grade obtained for {a} is A+\")\n",
    "elif a < 90 and a >= 80:\n",
    "    print(f\"The grade obtained for {a} is A\")\n",
    "elif a < 80 and a >= 75:\n",
    "    print(f\"The grade obtained for {a} is B+\")\n",
    "elif a < 75 and a >= 70:\n",
    "    print(f\"The grade obtained for {a} is B\")\n",
    "elif a < 70 and a >= 60:\n",
    "    print(f\"The grade obtained for {a} is C+\")\n",
    "elif a < 60 and a >= 55:\n",
    "    print(f\"The grade obtained for {a} is C\")\n",
    "elif a < 55 and a >= 50:\n",
    "    print(f\"The grade obtained for {a} is D+\")\n",
    "elif a < 50 and a >= 45:\n",
    "    print(f\"The grade obtained for {a} is D\")\n",
    "elif a < 45 and a >= 40:\n",
    "    print(f\"The grade obtained for {a} is E\")\n",
    "elif a < 40:\n",
    "    print(f\"The percentage score {a} obtained is very less and hence you have failed in the Exam.\")"
   ]
  },
  {
   "cell_type": "markdown",
   "id": "a93fd926",
   "metadata": {},
   "source": [
    "5. Create a program that checks if a year is a leap year or not."
   ]
  },
  {
   "cell_type": "code",
   "execution_count": 65,
   "id": "97b1eedc",
   "metadata": {},
   "outputs": [
    {
     "name": "stdout",
     "output_type": "stream",
     "text": [
      "The year 2060 is a leap year.\n"
     ]
    }
   ],
   "source": [
    "year = int(input(\"Enter the year: \"))\n",
    "\n",
    "if year % 400 == 0:\n",
    "    print(f\"The year {year} is a evenly divisible by 400.\")\n",
    "    if year % 100 == 0:\n",
    "        print(f\"The year {year} is a leap year too.\")\n",
    "elif year % 4 == 0 and year % 100 != 0:\n",
    "    print(f\"The year {year} is a leap year.\")\n",
    "else:\n",
    "    print(f\"The year {year} is neither a leap year nor a century year.\")"
   ]
  },
  {
   "cell_type": "markdown",
   "id": "ee170d37",
   "metadata": {},
   "source": [
    "6. Write a program to classify a triangle based on its sides' lengths."
   ]
  },
  {
   "cell_type": "code",
   "execution_count": 68,
   "id": "1c3d9b88",
   "metadata": {},
   "outputs": [
    {
     "name": "stdout",
     "output_type": "stream",
     "text": [
      "The length of side1 is 53.0\n",
      "The length of side2 is 24.0\n",
      "The length of side3 is 69.0\n",
      "Since all the sides of different lengths, the traingle is Scalen traingle.\n"
     ]
    }
   ],
   "source": [
    "side1 = float(input(\"Enter the length of first side: \"))\n",
    "print(f\"The length of side1 is {side1}\")\n",
    "side2 = float(input(\"Enter the length of second side: \"))\n",
    "print(f\"The length of side2 is {side2}\")\n",
    "side3 = float(input(\"Enter the length of third side: \"))\n",
    "print(f\"The length of side3 is {side3}\")\n",
    "\n",
    "if side1 == side2 == side3:\n",
    "    print(\"Since all the three sides are of equal lengths, the traingle is equilatera traingle.\")\n",
    "elif side1 == side2 or side2 == side3 or side1 == side3:\n",
    "    print(\"Since two sides are of equal lengths, the traingle is isoscales traingle.\")\n",
    "else:\n",
    "    print(\"Since all the sides of different lengths, the traingle is Scalen traingle.\")"
   ]
  },
  {
   "cell_type": "markdown",
   "id": "b775bd1d",
   "metadata": {},
   "source": [
    "7. Build a program that determines the largest of three given numbers."
   ]
  },
  {
   "cell_type": "code",
   "execution_count": 70,
   "id": "8907c4eb",
   "metadata": {},
   "outputs": [
    {
     "name": "stdout",
     "output_type": "stream",
     "text": [
      "First number is 52.0\n",
      "Second number is 69.0\n",
      "Third number is 54.0\n",
      "69.0 is greater than 52.0 and 54.0\n"
     ]
    }
   ],
   "source": [
    "num1 = float(input(\"Enter first number: \"))\n",
    "print(f\"First number is {num1}\")\n",
    "num2 = float(input(\"Enter second number: \"))\n",
    "print(f\"Second number is {num2}\")\n",
    "num3 = float(input(\"Enter third number: \"))\n",
    "print(f\"Third number is {num3}\")\n",
    "\n",
    "if num1 > num2 and num1 > num3:\n",
    "    print(f\"{num1} is greater than {num2} and {num3}\")\n",
    "elif num2 > num1 and num2 > num3:\n",
    "    print(f\"{num2} is greater than {num1} and {num3}\")\n",
    "else:\n",
    "    print(f\"{num3} is greater than {num1} and {num2} \")"
   ]
  },
  {
   "cell_type": "markdown",
   "id": "a194e46f",
   "metadata": {},
   "source": [
    "8. Develop a program that checks whether a character is a vowel or a consonant."
   ]
  },
  {
   "cell_type": "code",
   "execution_count": 71,
   "id": "058f97ad",
   "metadata": {},
   "outputs": [
    {
     "name": "stdout",
     "output_type": "stream",
     "text": [
      "The given character is vowel\n"
     ]
    }
   ],
   "source": [
    "char = str(input('Enter the character to check: '))\n",
    "\n",
    "if char in \"AEIOUaeiou\":\n",
    "    print(\"The given character is vowel\")\n",
    "else:\n",
    "    print(\"The given character is consonent\")"
   ]
  },
  {
   "cell_type": "markdown",
   "id": "7b37d168",
   "metadata": {},
   "source": [
    "9. Create a program to calculate the total cost of a shopping cart based on discounts."
   ]
  },
  {
   "cell_type": "code",
   "execution_count": 72,
   "id": "7578329c",
   "metadata": {},
   "outputs": [
    {
     "name": "stdout",
     "output_type": "stream",
     "text": [
      "Total amount is: 1500.0\n",
      "Total discount is: 75.0\n",
      "Total amount to be paid is: 1425.0\n"
     ]
    }
   ],
   "source": [
    "amount = float(input(\"Enter the total amount: \"))\n",
    "\n",
    "if 0 <= amount <= 5000:\n",
    "    dis = amount * 0.05\n",
    "elif 5000 < amount <= 15000:\n",
    "    dis = amount * 0.12\n",
    "elif 15000 < amount <= 25000:\n",
    "    dis = amount * 0.20\n",
    "elif amount > 25000:\n",
    "    dis = amount * 0.30\n",
    "\n",
    "final_amount_to_be_paid = amount - dis\n",
    "\n",
    "print(f\"Total amount is: {amount}\")\n",
    "print(f\"Total discount is: {dis}\")\n",
    "print(f\"Total amount to be paid is: {final_amount_to_be_paid}\")"
   ]
  },
  {
   "cell_type": "markdown",
   "id": "94468898",
   "metadata": {},
   "source": [
    "10. Write a program that checks if a given number is even or odd."
   ]
  },
  {
   "cell_type": "code",
   "execution_count": 74,
   "id": "7725b570",
   "metadata": {},
   "outputs": [
    {
     "name": "stdout",
     "output_type": "stream",
     "text": [
      "You have entered: 59.0\n",
      "The given number 59.0 is odd number.\n"
     ]
    }
   ],
   "source": [
    "num = float(input(\"Enter a number: \"))\n",
    "print(f\"You have entered: {num}\")\n",
    "\n",
    "if num % 2 == 0:\n",
    "    print(f\"The given number {num} is even number.\")\n",
    "elif num % 2 != 0:\n",
    "    print(f\"The given number {num} is odd number.\")\n",
    "else:\n",
    "    print(\"Enter a valid number.\")"
   ]
  },
  {
   "cell_type": "markdown",
   "id": "454d5f28",
   "metadata": {},
   "source": [
    "Intermediate Level:"
   ]
  },
  {
   "cell_type": "markdown",
   "id": "4c1590d9",
   "metadata": {},
   "source": [
    "11. Write a program that calculates the roots of a quadratic equation."
   ]
  },
  {
   "cell_type": "code",
   "execution_count": 75,
   "id": "16d71eb9",
   "metadata": {},
   "outputs": [
    {
     "name": "stdout",
     "output_type": "stream",
     "text": [
      "The value of a is 5.0\n",
      "The value of b is 6.0\n",
      "The value of c is 7.0\n",
      "The roots of the quadratic equation 5.0x^2+6.0x+7.0 = 0 are -11.0 and 9.8\n"
     ]
    }
   ],
   "source": [
    "a = float(input(\"Enter the value of a for ax^2+bx+c=0: \"))\n",
    "print(f\"The value of a is {a}\")\n",
    "b = float(input(\"Enter the value of b for ax^2+bx+c=0: \"))\n",
    "print(f\"The value of b is {b}\")\n",
    "c = float(input(\"Enter the value of c for ax^2+bx+c=0: \"))\n",
    "print(f\"The value of c is {c}\")\n",
    "\n",
    "root1 = (-b+(b**2-4*a*c))/(2*a)\n",
    "root2 = (-b-(b**2-4*a*c))/(2*a)\n",
    "\n",
    "print(f\"The roots of the quadratic equation {a}x^2+{b}x+{c} = 0 are {root1} and {root2}\")"
   ]
  },
  {
   "cell_type": "markdown",
   "id": "1e88e5dd",
   "metadata": {},
   "source": [
    "12. Create a program that determines the day of the week based on the day number (1-7)."
   ]
  },
  {
   "cell_type": "code",
   "execution_count": 76,
   "id": "60862c23",
   "metadata": {},
   "outputs": [
    {
     "name": "stdout",
     "output_type": "stream",
     "text": [
      "The day of the week corresponding to the number 3 is Wednesday\n"
     ]
    }
   ],
   "source": [
    "day_number = int(input(\"Enter a number (1-7) to represent a day of the week: \"))\n",
    "\n",
    "day_names = {\n",
    "    1: \"Monday\",\n",
    "    2: \"Tuesday\",\n",
    "    3: \"Wednesday\",\n",
    "    4: \"Thursday\",\n",
    "    5: \"Friday\",\n",
    "    6: \"Saturday\",\n",
    "    7: \"Sunday\"\n",
    "}\n",
    "\n",
    "if 1 <= day_number <= 7:\n",
    "    day_name = day_names[day_number]\n",
    "    print(\"The day of the week corresponding to the number\", day_number, \"is\", day_name)\n",
    "else:\n",
    "    print(\"Invalid input. Please enter a number between 1 and 7 to represent a day of the week.\")"
   ]
  },
  {
   "cell_type": "markdown",
   "id": "ff28ae89",
   "metadata": {},
   "source": [
    "13. Develop a program that calculates the factorial of a given number using recursion"
   ]
  },
  {
   "cell_type": "code",
   "execution_count": 78,
   "id": "2f1e79a9",
   "metadata": {},
   "outputs": [
    {
     "name": "stdout",
     "output_type": "stream",
     "text": [
      "The factorial of 6 is 720\n"
     ]
    }
   ],
   "source": [
    "def factorial(n):\n",
    "    if n == 0:\n",
    "        return 1\n",
    "    else:\n",
    "        return n * factorial(n - 1)  \n",
    "\n",
    "num = int(input(\"Enter a non-negative integer: \"))\n",
    "\n",
    "if num < 0:\n",
    "    print(\"Factorial is not defined for negative numbers.\")\n",
    "else:\n",
    "    result = factorial(num)\n",
    "    print(f\"The factorial of {num} is {result}\")"
   ]
  },
  {
   "cell_type": "markdown",
   "id": "fb0f6274",
   "metadata": {},
   "source": [
    "14. Write a program to find the largest among three numbers without using the `max()` function."
   ]
  },
  {
   "cell_type": "code",
   "execution_count": 2,
   "id": "1bbaf45b",
   "metadata": {},
   "outputs": [
    {
     "name": "stdout",
     "output_type": "stream",
     "text": [
      "The largest number among 55.0, 98.0 and 34.0 is 98.0\n"
     ]
    }
   ],
   "source": [
    "num1 = float(input(\"Enter first number: \"))\n",
    "num2 = float(input(\"Enter second number: \"))\n",
    "num3 = float(input(\"Enter third number: \"))\n",
    "\n",
    "largest = num1\n",
    "\n",
    "if num2 > largest:\n",
    "    largest = num2\n",
    "\n",
    "if num3 > largest:\n",
    "    largest = num3\n",
    "\n",
    "print(f\"The largest number among {num1}, {num2} and {num3} is {largest}\")"
   ]
  },
  {
   "cell_type": "markdown",
   "id": "7ecbc859",
   "metadata": {},
   "source": [
    "15. Create a program that simulates a basic ATM transaction menu."
   ]
  },
  {
   "cell_type": "code",
   "execution_count": 1,
   "id": "2015857a",
   "metadata": {},
   "outputs": [
    {
     "name": "stdout",
     "output_type": "stream",
     "text": [
      "ATM Transaction Menu:\n",
      "1. Check Balance\n",
      "2. Deposit Funds\n",
      "3. Withdraw Funds\n",
      "4. Exit\n",
      "INR 2000.0 has been deposited. Your new balance is INR 3000.0\n",
      "ATM Transaction Menu:\n",
      "1. Check Balance\n",
      "2. Deposit Funds\n",
      "3. Withdraw Funds\n",
      "4. Exit\n",
      "Thank you for using the ATM. Have a nice day!\n"
     ]
    }
   ],
   "source": [
    "balance = 1000 \n",
    "\n",
    "def display_menu():\n",
    "    print(\"ATM Transaction Menu:\")\n",
    "    print(\"1. Check Balance\")\n",
    "    print(\"2. Deposit Funds\")\n",
    "    print(\"3. Withdraw Funds\")\n",
    "    print(\"4. Exit\")\n",
    "\n",
    "\n",
    "while True:\n",
    "    display_menu()  \n",
    "    choice = input(\"Enter your choice (1/2/3/4): \")\n",
    "\n",
    "    if choice == \"1\":\n",
    "        print(f\"Your balance is INR {balance}\")\n",
    "    elif choice == \"2\":\n",
    "        deposit_amount = float(input(\"Enter the amount to deposit: INR\"))\n",
    "        balance += deposit_amount\n",
    "        print(f\"INR {deposit_amount} has been deposited. Your new balance is INR {balance}\")\n",
    "    elif choice == \"3\":\n",
    "        withdraw_amount = float(input(\"Enter the amount to withdraw: INR\"))\n",
    "        if withdraw_amount <= balance:\n",
    "            balance -= withdraw_amount\n",
    "            print(f\"INR {withdraw_amount} has been withdrawn. Your new balance is INR {balance}\")\n",
    "        else:\n",
    "            print(\"Insufficient funds.\")\n",
    "    elif choice == \"4\":\n",
    "        print(\"Thank you for using the ATM. Have a nice day!\")\n",
    "        break\n",
    "    else:\n",
    "        print(\"Invalid choice. Please select a valid option (1/2/3/4).\")\n"
   ]
  },
  {
   "cell_type": "markdown",
   "id": "13b71139",
   "metadata": {},
   "source": [
    "16. Build a program that checks if a given string is a palindrome or not."
   ]
  },
  {
   "cell_type": "code",
   "execution_count": 4,
   "id": "cd047633",
   "metadata": {},
   "outputs": [
    {
     "name": "stdout",
     "output_type": "stream",
     "text": [
      "You have entered: oxo\n",
      "The given string is Palindrome.\n"
     ]
    }
   ],
   "source": [
    "a = str(input(\"Enter your string: \"))\n",
    "a = a.lower()\n",
    "b = a[::-1]\n",
    "print(f\"You have entered: {a}\")\n",
    "\n",
    "if a == b:\n",
    "    print(\"The given string is Palindrome.\")\n",
    "else:\n",
    "    print(\"The given string is not a Plindrome.\")\n"
   ]
  },
  {
   "cell_type": "markdown",
   "id": "b336a5a8",
   "metadata": {},
   "source": [
    "17. Write a program that calculates the average of a list of numbers, excluding the smallest and largest values."
   ]
  },
  {
   "cell_type": "code",
   "execution_count": 10,
   "id": "61c5c5a7",
   "metadata": {},
   "outputs": [
    {
     "name": "stdout",
     "output_type": "stream",
     "text": [
      "[2.0, 6.0, 5.0, 4.0, 88.0, 33.0, 25.0, 96.0, 24.0, 36.0, 79.0]\n",
      "After excluding the smallest and largest number, list becomes: [6.0, 5.0, 4.0, 88.0, 33.0, 25.0, 24.0, 36.0, 79.0]\n",
      "The average of given list of numbers excluding the smallest and largest number is 33.333333333333336.\n"
     ]
    }
   ],
   "source": [
    "num_list = input(\"Enter a list of numbers separated by spaces: \").split()\n",
    "\n",
    "min_value = 0\n",
    "max_value = 0\n",
    "\n",
    "num_list = [float(num) for num in num_list]\n",
    "print(num_list)\n",
    "\n",
    "if len(num_list) < 3:\n",
    "    print(\"You have to to enter at least 3 numbers to calculate the average.\")\n",
    "else:\n",
    "    min_value = min(num_list)\n",
    "    max_value = max(num_list)\n",
    "\n",
    "new_list = [num for num in num_list if num != min_value and num != max_value]\n",
    "\n",
    "print(f\"After excluding the smallest and largest number, list becomes: {new_list}\")\n",
    "\n",
    "if len(new_list) > 0:\n",
    "    average = sum(new_list) / len(new_list)\n",
    "    print(f\"The average of given list of numbers excluding the smallest and largest number is {average}.\")\n",
    "else:\n",
    "    print(\"All values in the list are same and average cannot be calculated.\")\n"
   ]
  },
  {
   "cell_type": "markdown",
   "id": "9c9e2f5d",
   "metadata": {},
   "source": [
    "18. Develop a program that converts a given temperature from Celsius to Fahrenheit."
   ]
  },
  {
   "cell_type": "code",
   "execution_count": 11,
   "id": "fb27c1be",
   "metadata": {},
   "outputs": [
    {
     "name": "stdout",
     "output_type": "stream",
     "text": [
      "The temperature in Fahrenheit in 149.0\n"
     ]
    }
   ],
   "source": [
    "temp = float(input(\"Enter the temperature in degree celsius: \"))\n",
    "\n",
    "temp_in_fahrenheit = (temp*9/5) + 32\n",
    "\n",
    "print(f\"The temperature in Fahrenheit in {temp_in_fahrenheit}\")"
   ]
  },
  {
   "cell_type": "markdown",
   "id": "9c5af137",
   "metadata": {},
   "source": [
    "19. Create a program that simulates a basic calculator for addition, subtraction, multiplication, and division."
   ]
  },
  {
   "cell_type": "code",
   "execution_count": 14,
   "id": "85aa963d",
   "metadata": {},
   "outputs": [
    {
     "name": "stdout",
     "output_type": "stream",
     "text": [
      "You have entered Number 1 as 58\n",
      "You have entered Number 2 as 69\n",
      "You have entered the operator as /\n",
      "0.8405797101449275\n"
     ]
    }
   ],
   "source": [
    "num1 = int(input('Enter the first number: '))\n",
    "print(f\"You have entered Number 1 as {num1}\")\n",
    "num2 = int(input('Enter the second number: '))\n",
    "print(f\"You have entered Number 2 as {num2}\")\n",
    "operator = input('Enter the operator (+,-,*,/): ')\n",
    "print(f\"You have entered the operator as {operator}\")\n",
    "\n",
    "if operator == '+':\n",
    "    print(num1 + num2)\n",
    "elif operator == '-':\n",
    "    print(num1 - num2)\n",
    "elif operator == '*':\n",
    "    print(num1 * num2)\n",
    "else:\n",
    "    print(num1 / num2)"
   ]
  },
  {
   "cell_type": "markdown",
   "id": "43e75f88",
   "metadata": {},
   "source": [
    "20. Write a program that determines the roots of a cubic equation using the Cardano formula."
   ]
  },
  {
   "cell_type": "code",
   "execution_count": 15,
   "id": "f4220d45",
   "metadata": {},
   "outputs": [
    {
     "name": "stdout",
     "output_type": "stream",
     "text": [
      "Root 1: (0.42697045480630835+1.199502715028224j)\n",
      "Root 2: (-0.6212279885023576-0.42606827141252596j)\n",
      "Root 3: (-1.6600278116252056-0.17368308610158606j)\n"
     ]
    }
   ],
   "source": [
    "import cmath \n",
    "\n",
    "a = float(input(\"Enter the coefficient a: \"))\n",
    "b = float(input(\"Enter the coefficient b: \"))\n",
    "c = float(input(\"Enter the coefficient c: \"))\n",
    "d = float(input(\"Enter the coefficient d: \"))\n",
    "\n",
    "p = c / a - (b**2) / (3 * a**2)\n",
    "q = (2 * b**3) / (27 * a**3) - (b * c) / (3 * a**2) + d / a\n",
    "\n",
    "delta = (q**2) / 4 + (p**3) / 27\n",
    "\n",
    "omega = (-1 + cmath.sqrt(-3)) / 2\n",
    "omega2 = (-1 - cmath.sqrt(-3)) / 2\n",
    "\n",
    "if delta > 0:\n",
    "    u = (-q/2 + cmath.sqrt(delta))**(1/3)\n",
    "    v = (-q/2 - cmath.sqrt(delta))**(1/3)\n",
    "    root1 = u + v - b / (3 * a)\n",
    "    root2 = -(u + v) / 2 - b / (3 * a) + (u - v) * omega / 2\n",
    "    root3 = -(u + v) / 2 - b / (3 * a) + (u - v) * omega2 / 2\n",
    "elif delta == 0:\n",
    "    u = (-q/2)**(1/3)\n",
    "    v = (-q/2)**(1/3)\n",
    "    root1 = u + v - b / (3 * a)\n",
    "    root2 = -(u + v) / 2 - b / (3 * a) + (u - v) * omega / 2\n",
    "    root3 = -(u + v) / 2 - b / (3 * a) + (u - v) * omega2 / 2\n",
    "else:\n",
    "    rho = cmath.sqrt(-(p**3) / 27)\n",
    "    theta = cmath.acos(-(q / 2) / rho)\n",
    "    u = rho**(1/3)\n",
    "    root1 = 2 * u * cmath.cos(theta / 3) - b / (3 * a)\n",
    "    root2 = 2 * u * cmath.cos((theta + 2 * cmath.pi) / 3) - b / (3 * a)\n",
    "    root3 = 2 * u * cmath.cos((theta + 4 * cmath.pi) / 3) - b / (3 * a)\n",
    "\n",
    "print(\"Root 1:\", root1)\n",
    "print(\"Root 2:\", root2)\n",
    "print(\"Root 3:\", root3)"
   ]
  },
  {
   "cell_type": "markdown",
   "id": "7569cc96",
   "metadata": {},
   "source": [
    "Advanced Level:"
   ]
  },
  {
   "cell_type": "markdown",
   "id": "5931b872",
   "metadata": {},
   "source": [
    "21. Create a program that calculates the income tax based on the user's income and tax brackets."
   ]
  },
  {
   "cell_type": "code",
   "execution_count": 17,
   "id": "113855cf",
   "metadata": {},
   "outputs": [
    {
     "name": "stdout",
     "output_type": "stream",
     "text": [
      "Your income is 6.8 Lakhs.\n",
      "Since your income 6.8 lakhs is between 6 to 9 lakhs, you need to pay INR 68000.0 tax.\n"
     ]
    }
   ],
   "source": [
    "income = float(input(\"Enter your income in Lakhs (like 1/2/3/4): Lakhs\"))\n",
    "print(f\"Your income is {income} Lakhs.\")\n",
    "\n",
    "if 0 <= income <= 3:\n",
    "    print(f\"Since your income {income} lakhs is between 0 to 3 lakhs, you no need to pay the tax.\")\n",
    "elif 3 < income <= 6:\n",
    "    tax = income * 0.05 * 100000\n",
    "    print(f\"Since your income {income} lakhs is between 3 to 6 lakhs, you need to pay INR {tax} tax.\")\n",
    "elif 6 < income <= 9:\n",
    "    tax = income * 0.10 * 100000\n",
    "    print(f\"Since your income {income} lakhs is between 6 to 9 lakhs, you need to pay INR {tax} tax.\")\n",
    "elif 9 < income <= 12:\n",
    "    tax = income * 0.15 * 100000\n",
    "    print(f\"Since your income {income} lakhs is between 9 to 12 lakhs, you need to pay INR {tax} tax.\")\n",
    "elif 12 < income <= 20:\n",
    "    tax = income * 0.20 * 100000\n",
    "    print(f\"Since your income {income} lakhs is between 12 to 20 lakhs, you need to pay INR {tax} tax.\")\n",
    "elif income > 20:\n",
    "    tax = income * 0.30 * 100000\n",
    "    print(f\"Since your income {income} lakhs is greater than 20 lakhs, you need to pay INR {tax} tax.\")\n",
    "else:\n",
    "    print(\"Enter a valid income.\")"
   ]
  },
  {
   "cell_type": "markdown",
   "id": "80023c98",
   "metadata": {},
   "source": [
    "22. Write a program that simulates a rock-paper-scissors game against the computer."
   ]
  },
  {
   "cell_type": "code",
   "execution_count": 18,
   "id": "793fd08a",
   "metadata": {},
   "outputs": [
    {
     "name": "stdout",
     "output_type": "stream",
     "text": [
      "Rock, Paper, Scissors\n",
      "Computer chooses scissors\n",
      "You win!\n",
      "Rock, Paper, Scissors\n",
      "Computer chooses paper\n",
      "It's a tie!\n"
     ]
    }
   ],
   "source": [
    "import random\n",
    "\n",
    "def get_computer_choice():\n",
    "    choices = [\"rock\", \"paper\", \"scissors\"]\n",
    "    return random.choice(choices)\n",
    "\n",
    "\n",
    "def determine_winner(user_choice, computer_choice):\n",
    "    if user_choice == computer_choice:\n",
    "        return \"It's a tie!\"\n",
    "    elif (\n",
    "        (user_choice == \"rock\" and computer_choice == \"scissors\") or\n",
    "        (user_choice == \"paper\" and computer_choice == \"rock\") or\n",
    "        (user_choice == \"scissors\" and computer_choice == \"paper\")\n",
    "    ):\n",
    "        return \"You win!\"\n",
    "    else:\n",
    "        return \"Computer wins!\"\n",
    "\n",
    "\n",
    "while True:\n",
    "    print(\"Rock, Paper, Scissors\")\n",
    "    user_choice = input(\"Enter your choice (rock/paper/scissors): \").lower()\n",
    "\n",
    "    if user_choice not in [\"rock\", \"paper\", \"scissors\"]:\n",
    "        print(\"Invalid choice. Please choose from rock, paper, or scissors.\")\n",
    "        continue\n",
    "\n",
    "    computer_choice = get_computer_choice()\n",
    "    print(f\"Computer chooses {computer_choice}\")\n",
    "\n",
    "    result = determine_winner(user_choice, computer_choice)\n",
    "    print(result)\n",
    "\n",
    "    play_again = input(\"Play again? (yes/no): \").lower()\n",
    "    if play_again != \"yes\":\n",
    "        break\n"
   ]
  },
  {
   "cell_type": "markdown",
   "id": "6e01d9af",
   "metadata": {},
   "source": [
    "23. Develop a program that generates a random password based on user preferences (length, complexity)."
   ]
  },
  {
   "cell_type": "code",
   "execution_count": 20,
   "id": "22c99719",
   "metadata": {},
   "outputs": [
    {
     "name": "stdout",
     "output_type": "stream",
     "text": [
      "Generated Password: g2vs*i+>\n"
     ]
    }
   ],
   "source": [
    "import random\n",
    "import string\n",
    "\n",
    "def generate_password(length, complexity):\n",
    "    characters = ' '\n",
    "\n",
    "    if 'uppercase' in complexity:\n",
    "        characters += string.ascii_uppercase\n",
    "    if 'lowercase' in complexity:\n",
    "        characters += string.ascii_lowercase\n",
    "    if 'digits' in complexity:\n",
    "        characters += string.digits\n",
    "    if 'special' in complexity:\n",
    "        characters += string.punctuation\n",
    "    \n",
    "    if not characters:\n",
    "        print(\"Invlid complexity selection.\")\n",
    "        return None\n",
    "\n",
    "    password = ''.join(random.choice(characters) for _ in range(length))\n",
    "    return password\n",
    "\n",
    "length = int(input(\"Enter the desired length of password: \"))\n",
    "complexity = input(\"Enter the desired complexity (uppercase, lowercase, digits, special; separated by spaces): \").split()\n",
    "\n",
    "password = generate_password(length, complexity)\n",
    "\n",
    "if password:\n",
    "    print(\"Generated Password:\", password)"
   ]
  },
  {
   "cell_type": "markdown",
   "id": "b9a769ab",
   "metadata": {},
   "source": [
    "24. Create a program that implements a simple text-based adventure game with branching scenarios."
   ]
  },
  {
   "cell_type": "code",
   "execution_count": 1,
   "id": "44577a0c",
   "metadata": {},
   "outputs": [
    {
     "name": "stdout",
     "output_type": "stream",
     "text": [
      "Greetings, Nikhil! Welcome to your spiritual adventure journey!\n",
      "Great! Let's play the game.\n",
      "Wlecome to the mighty Golok, your real home! Your spiritual Guru has told you to wait here...\n",
      "You follow him into the Golok...\n",
      "Even though you have choosen to just have a tour of golok, you can't go back as you have entered into your real home.\n"
     ]
    }
   ],
   "source": [
    "name = input(\"Enter your name: \")\n",
    "print(f\"Greetings, {name}! Welcome to your spiritual adventure journey!\")\n",
    "start = input(\"Would you rather play the game or quit?\")\n",
    "if start == \"play\":\n",
    "    print(\"Great! Let's play the game.\")\n",
    "    setting = input(\"Want to go to the heaven or the golok? \")\n",
    "else:\n",
    "    print(\"Lame. Okay you wasted your whole life in doing nothing.....\")\n",
    "    quit()\n",
    "\n",
    "if setting == 'heaven':\n",
    "    print(\"Wlecome to the mighty Heaven of king Indra! Your spiritual guru has told you to wait here...\")\n",
    "    response = input(\"But he has been gone a long time... follw him, or wait here?\")\n",
    "    if response == 'follow':\n",
    "        print('You follow him into the haven...')\n",
    "        transport = input('Would you like to live here or just see the beauty of the heaven?')\n",
    "        if transport == 'live':\n",
    "            print(\"You are most welcome in the beautiful Heaven. Here you will get all the opulences and you may live for long time here.\")\n",
    "            print(\"But you should also remeber that, you can live and enjoy the opulences of heaven till you have Punyas in your spiritua account.\")\n",
    "            print(\"Once all the punyas are over, you must take birth on bhulok and again go through Birth, deisease, old age and death cycle.\")\n",
    "            print(\"You lose the game and wasted your life in heaven too.\")\n",
    "        elif transport == 'just see': \n",
    "            print(\"You are most welcome in the wondeful heaven owned by king Indra.\")\n",
    "            print(\"If you are really wise, please just see the beauty and do not attach or overenjoy it.\")\n",
    "            print(\"This is beacuse, again you ahve take birth on earth, suffer from diseases, old age and at last death.\")\n",
    "        else:\n",
    "            print(\"Invalid input. You have to either choose to live or to just see. You lose.\")\n",
    "    elif response == 'wait':\n",
    "        print('You wait another 10 minutes and he is still not here!')\n",
    "        print(\"Its of no use to wai here in heaven. This is because, ultimately Heaven is also a place from where you must come to bhulok and again go through the cycle of birth, disease, old age and death.\")\n",
    "    else:\n",
    "        print(\"Invlid response! you wasted your life!\")\n",
    "        quit()\n",
    "\n",
    "elif setting == 'golok':\n",
    "    print(\"Wlecome to the mighty Golok, your real home! Your spiritual Guru has told you to wait here...\")\n",
    "    response = input(\"But he has been gone a long time... follw him, or wait here?\")\n",
    "    if response == 'follow':\n",
    "        print('You follow him into the Golok...')\n",
    "        answer = input(\"Would you like to live here or just have tour of golok.\")\n",
    "        if answer == 'live':\n",
    "            print(\"You have Choosen the correct path and also you chose to live in your original home along with your original father and mother Sri krishna and radha rani.\")\n",
    "        elif answer == 'just have a tour':\n",
    "            print(\"Even though you have choosen to just have a tour of golok, you can't go back as you have entered into your real home.\")\n",
    "        else: \n",
    "            print(\"Invalid response.\")\n",
    "    elif response == 'wait':\n",
    "        print('You wait another 10 minutes and he is still not here!')\n",
    "        print('Still you have choosen right path, as you are following your Gurus instruction.')\n",
    "    else:\n",
    "        print(\"Invlid response! you wasted your life!\")\n",
    "        quit()  \n",
    "\n",
    "else:\n",
    "    print(\"Invalid input. You have to choose either heaven or golok to pay the game. You lose!.\")"
   ]
  },
  {
   "cell_type": "markdown",
   "id": "af1a190a",
   "metadata": {},
   "source": [
    "25. Build a program that solves a linear equation  for x, considering different cases."
   ]
  },
  {
   "cell_type": "code",
   "execution_count": 3,
   "id": "b84f8db3",
   "metadata": {},
   "outputs": [
    {
     "name": "stdout",
     "output_type": "stream",
     "text": [
      "The solution of the equations 8.0x+5.0y+9.0=0 and 6.0x+6.0y+1.0=0 is as follows:\n",
      "Value of x is -2.7222222222222223\n",
      "Value of y is 2.5555555555555554\n"
     ]
    }
   ],
   "source": [
    "# For linear equations a1x+b1y+c1=0 and a2x+b2y+c2=0\n",
    "\n",
    "a1 = float(input(\"Enter the value of a1: \"))\n",
    "a2 = float(input(\"Enter the value of a2: \"))\n",
    "b1 = float(input(\"Enter the value of b1: \"))\n",
    "b2 = float(input(\"Enter the value of b2: \"))\n",
    "c1 = float(input(\"Enter the value of c1: \"))\n",
    "c2 = float(input(\"Enter the value of c2: \"))\n",
    "\n",
    "denominator = (a1*b2-a2*b1)\n",
    "\n",
    "x = (b1*c2-b2*c1) / denominator\n",
    "y = (a2*c1-a1*c2) / denominator\n",
    "\n",
    "print(f\"The solution of the equations {a1}x+{b1}y+{c1}=0 and {a2}x+{b2}y+{c2}=0 is as follows:\")\n",
    "print(f\"Value of x is {x}\")\n",
    "print(f\"Value of y is {y}\")"
   ]
  },
  {
   "cell_type": "markdown",
   "id": "5304d85b",
   "metadata": {},
   "source": [
    "26. Write a program that simulates a basic quiz game with multiple-choice questions and scoring."
   ]
  },
  {
   "cell_type": "code",
   "execution_count": 5,
   "id": "aa437a5e",
   "metadata": {},
   "outputs": [
    {
     "name": "stdout",
     "output_type": "stream",
     "text": [
      "Greeting! Pavan, let's start a quiz.\n",
      "You have only 1 chance to solve the correct answer.\n",
      " Please put the alphabet of the correct answer.\n",
      "\n",
      "1) Who is the prime minister of Bharat?\n",
      "(a) Yogi Adityanath\n",
      "(b) Narendra Modi\n",
      "(c) Rahul Gandhi\n",
      "(d) Amit Shah\n",
      "\n",
      "\n",
      "Correct answer! Good Job!\n",
      "\n",
      "2) Who was the first President of Bharat?\n",
      "(a) Mahatma Gandhi\n",
      "(b) Sardar Patel\n",
      "(c) Pandit Nehru\n",
      "(d) Rajendra Parasad\n",
      "\n",
      "\n",
      "Incorrect answer!\n",
      "\n",
      "The correct answer is d\n",
      "\n",
      "\n",
      "3) Who was the first lady President of Bharat?\n",
      "(a) Indira Gandhi\n",
      "(b) Mamta Banerjee\n",
      "(c) Pratibha Patil\n",
      "(d) Sonia Gandhi\n",
      "\n",
      "\n",
      "Correct answer! Good Job!\n",
      "\n",
      "4) Who was the first lady Prime Minister of Bharat?\n",
      "(a) Indira Gandhi\n",
      "(b) Mamta Banerjee\n",
      "(c) Pratibha Patil\n",
      "(d) Sonia Gandhi\n",
      "\n",
      "\n",
      "Correct answer! Good Job!\n",
      "\n",
      "Well done! You score is 3\n",
      "Thank you for playing the quiz game.\n"
     ]
    }
   ],
   "source": [
    "import time\n",
    "\n",
    "name = input(\"Enter your name: \")\n",
    "greet = print(f\"Greeting! {name}, let's start a quiz.\")\n",
    "time.sleep(1)\n",
    "\n",
    "chance = 1\n",
    "\n",
    "print(f\"You have only {chance} chance to solve the correct answer.\\n Please put the alphabet of the correct answer.\\n\")\n",
    "time.sleep(2)\n",
    "\n",
    "score = 0\n",
    "\n",
    "question_1 = print(\"1) Who is the prime minister of Bharat?\\n(a) Yogi Adityanath\\n(b) Narendra Modi\\n(c) Rahul Gandhi\\n(d) Amit Shah\\n\\n\")\n",
    "answer_1 = 'b'\n",
    "for i in range(chance):\n",
    "    answer = input(\"Answer is: \")\n",
    "    if answer == answer_1:\n",
    "        print('Correct answer! Good Job!\\n')\n",
    "        score += 1\n",
    "    else:\n",
    "        print(\"Incorrect answer!\\n\")\n",
    "        time.sleep(0.5)\n",
    "        print(f'The correct answer is {answer_1}\\n\\n')\n",
    "time.sleep(2)\n",
    "\n",
    "question_2 = print(\"2) Who was the first President of Bharat?\\n(a) Mahatma Gandhi\\n(b) Sardar Patel\\n(c) Pandit Nehru\\n(d) Rajendra Parasad\\n\\n\")\n",
    "answer_2 = 'd'\n",
    "for i in range(chance):\n",
    "    answer = input(\"Answer is: \")\n",
    "    if answer == answer_2:\n",
    "        print('Correct answer! Good Job!\\n')\n",
    "        score += 1\n",
    "    else:\n",
    "        print(\"Incorrect answer!\\n\")\n",
    "        time.sleep(0.5)\n",
    "        print(f'The correct answer is {answer_2}\\n\\n')\n",
    "time.sleep(2)\n",
    "\n",
    "question_3 = print(\"3) Who was the first lady President of Bharat?\\n(a) Indira Gandhi\\n(b) Mamta Banerjee\\n(c) Pratibha Patil\\n(d) Sonia Gandhi\\n\\n\")\n",
    "answer_3 = 'c'\n",
    "for i in range(chance):\n",
    "    answer = input(\"Answer is: \")\n",
    "    if answer == answer_3:\n",
    "        print('Correct answer! Good Job!\\n')\n",
    "        score += 1\n",
    "    else:\n",
    "        print(\"Incorrect answer!\\n\")\n",
    "        time.sleep(0.5)\n",
    "        print(f'The correct answer is {answer_3}\\n\\n')\n",
    "time.sleep(2)\n",
    "\n",
    "question_4 = print(\"4) Who was the first lady Prime Minister of Bharat?\\n(a) Indira Gandhi\\n(b) Mamta Banerjee\\n(c) Pratibha Patil\\n(d) Sonia Gandhi\\n\\n\")\n",
    "answer_4 = 'a'\n",
    "for i in range(chance):\n",
    "    answer = input(\"Answer is: \")\n",
    "    if answer == answer_4:\n",
    "        print('Correct answer! Good Job!\\n')\n",
    "        score += 1\n",
    "    else:\n",
    "        print(\"Incorrect answer!\\n\")\n",
    "        time.sleep(0.5)\n",
    "        print(f'The correct answer is {answer_4}\\n\\n')\n",
    "time.sleep(2)\n",
    "\n",
    "while score >= 3:\n",
    "    print(f\"Well done! You score is {score}\")\n",
    "    break\n",
    "\n",
    "while score <=2:\n",
    "    print(f\"Better luck next time. Your score is {score}\")\n",
    "    break\n",
    "\n",
    "print(\"Thank you for playing the quiz game.\")\n"
   ]
  },
  {
   "cell_type": "markdown",
   "id": "0e440b92",
   "metadata": {},
   "source": [
    "27. Develop a program that determines whether a given year is a prime number or not."
   ]
  },
  {
   "cell_type": "code",
   "execution_count": 7,
   "id": "bef80833",
   "metadata": {},
   "outputs": [
    {
     "name": "stdout",
     "output_type": "stream",
     "text": [
      "1998 is not a prime number.\n"
     ]
    }
   ],
   "source": [
    "year = int(input(\"Enter a year: \"))\n",
    "\n",
    "if year < 2:\n",
    "    is_prime = False\n",
    "else:\n",
    "    is_prime = True\n",
    "\n",
    "    for i in range(2, int(year**0.5) + 1):\n",
    "        if year % i == 0:\n",
    "            is_prime = False\n",
    "            break\n",
    "\n",
    "if is_prime:\n",
    "    print(year, \"is a prime number.\")\n",
    "else:\n",
    "    print(year, \"is not a prime number.\")\n"
   ]
  },
  {
   "cell_type": "markdown",
   "id": "df4b7c54",
   "metadata": {},
   "source": [
    "28. Create a program that sorts three numbers in ascending order using conditional statements."
   ]
  },
  {
   "cell_type": "code",
   "execution_count": 24,
   "id": "48dd4b4d",
   "metadata": {},
   "outputs": [
    {
     "name": "stdout",
     "output_type": "stream",
     "text": [
      "The gievn numbers in ascending order are 42.39, 50.25, 63.58\n"
     ]
    }
   ],
   "source": [
    "num1 = float(input(\"Enter the first number: \"))\n",
    "num2 = float(input(\"Enter the second number: \"))\n",
    "num3 = float(input(\"Enter the third number: \"))\n",
    "min_num = 0\n",
    "mid_num = 0\n",
    "max_num = 0\n",
    "\n",
    "if num1 <= num2 and num1 <= num3:\n",
    "    min_num = num1\n",
    "    if num2 <= num3:\n",
    "        mid_num = num2\n",
    "        max_num = num3\n",
    "    else:\n",
    "        mid_num = num3\n",
    "        max_num = num2\n",
    "\n",
    "elif num2 <= num1 and num2 <= num3:\n",
    "    min_num = num2\n",
    "    if num1 <= num3:\n",
    "        mid_num = num1\n",
    "        max_num = num3\n",
    "    else:\n",
    "        mid_num = num3\n",
    "        max_num = num1\n",
    "\n",
    "else:\n",
    "    min_num = num3\n",
    "    if num1 <= num2:\n",
    "        mid_num = num1\n",
    "        max_num = num2\n",
    "    else:\n",
    "        mid_num = num2\n",
    "        max_num = num1\n",
    "\n",
    "print(f\"The gievn numbers in ascending order are {min_num}, {mid_num}, {max_num}\")"
   ]
  },
  {
   "cell_type": "markdown",
   "id": "245fb09a",
   "metadata": {},
   "source": [
    "29. Build a program that determines the roots of a quartic equation using numerical methods."
   ]
  },
  {
   "cell_type": "code",
   "execution_count": 8,
   "id": "ff733a9a",
   "metadata": {},
   "outputs": [
    {
     "name": "stdout",
     "output_type": "stream",
     "text": [
      "The value of a is 2.0\n",
      "The value of b is 3.0\n",
      "The value of c is 5.0\n",
      "The roots of the quadratic equation 2.0x^2+3.0x+5.0 = 0 are -8.5 and 7.0\n"
     ]
    }
   ],
   "source": [
    "a = float(input(\"Enter the value of a for ax^2+bx+c=0: \"))\n",
    "print(f\"The value of a is {a}\")\n",
    "b = float(input(\"Enter the value of b for ax^2+bx+c=0: \"))\n",
    "print(f\"The value of b is {b}\")\n",
    "c = float(input(\"Enter the value of c for ax^2+bx+c=0: \"))\n",
    "print(f\"The value of c is {c}\")\n",
    "\n",
    "root1 = (-b+(b**2-4*a*c))/(2*a)\n",
    "root2 = (-b-(b**2-4*a*c))/(2*a)\n",
    "\n",
    "print(f\"The roots of the quadratic equation {a}x^2+{b}x+{c} = 0 are {root1} and {root2}\")"
   ]
  },
  {
   "cell_type": "markdown",
   "id": "7cbb7492",
   "metadata": {},
   "source": [
    "30. Write a program that calculates the BMI (Body Mass Index) and provides health recommendations based on the user's input"
   ]
  },
  {
   "cell_type": "code",
   "execution_count": 10,
   "id": "059884dc",
   "metadata": {},
   "outputs": [
    {
     "name": "stdout",
     "output_type": "stream",
     "text": [
      "Your weight is 63.0 Kgs\n",
      "Your height is 1.63 m\n",
      "As per your weight and height, your BMI is 23.711844630960897\n",
      "Since your BMI is 23.711844630960897 which is between 18.5 and 24.9, you are in healthy weight range. You should maintain your health as it is.\n"
     ]
    }
   ],
   "source": [
    "weight = float(input(\"Enter your weight in Kg: \"))\n",
    "print(f\"Your weight is {weight} Kgs\")\n",
    "height = float(input(\"Enter your height in meters: \"))\n",
    "print(f\"Your height is {height} m\")\n",
    "\n",
    "BMI = (weight) / (height**2) \n",
    "print(f\"As per your weight and height, your BMI is {BMI}\")\n",
    "\n",
    "if BMI < 18.5:\n",
    "    print(f\"Since your BMI is {BMI} which is less than 18.5, you are underweight. You should properly and increase you weight.\")\n",
    "elif 18.5 <= BMI <= 24.9:\n",
    "    print(f\"Since your BMI is {BMI} which is between 18.5 and 24.9, you are in healthy weight range. You should maintain your health as it is.\")\n",
    "elif 25 <= BMI <= 29.9:\n",
    "    print(f\"Since your BMI is {BMI} which is between 24.9 and 29.9, you are overweight. You should eat less and healthy. you shoulf also include excercise in your daily routine.\")\n",
    "else:\n",
    "    print(f\"Since your BMI is {BMI} which is more than 30.0, you are having obesity. You must consult your doctor and start excercising at the earliest.\")"
   ]
  },
  {
   "cell_type": "markdown",
   "id": "85ab630c",
   "metadata": {},
   "source": [
    "Challenge Level:"
   ]
  },
  {
   "cell_type": "markdown",
   "id": "88a02b4a",
   "metadata": {},
   "source": [
    "31. Create a program that validates a password based on complexity rules (length, characters, etc.)."
   ]
  },
  {
   "cell_type": "code",
   "execution_count": 11,
   "id": "e594d133",
   "metadata": {},
   "outputs": [
    {
     "name": "stdout",
     "output_type": "stream",
     "text": [
      "You have entered the password Pavan@123\n",
      "The password is valid.\n"
     ]
    }
   ],
   "source": [
    "password = input(\"Enter your password: \")\n",
    "print(f\"You have entered the password {password}\")\n",
    "\n",
    "if 8 <= len(password) <= 12:\n",
    "    if not password[0].isdigit():\n",
    "        if not any(char in \"/,='\\\"\" for char in password):\n",
    "            if not ' ' in password:\n",
    "                print(\"The password is valid.\")\n",
    "            else:\n",
    "                print(\"Password should not contain any blank spaces.\")\n",
    "        else:\n",
    "            print(\"Password should not contain any special characters like /, =, ' or \\\".\")\n",
    "    else:\n",
    "        print(\"Password should not start with a number; it should start with alphabets.\")\n",
    "else:\n",
    "    print(\"Invalid password length. Password should be between 8 and 12 characters.\")"
   ]
  },
  {
   "cell_type": "markdown",
   "id": "28175585",
   "metadata": {},
   "source": [
    "32. Develop a program that performs matrix addition and subtraction based on user input."
   ]
  },
  {
   "cell_type": "code",
   "execution_count": 20,
   "id": "383c17c9",
   "metadata": {},
   "outputs": [
    {
     "name": "stdout",
     "output_type": "stream",
     "text": [
      "Matrix1 is:\n",
      "1 Matrix1 is:\n",
      "2 \n",
      "Matrix1 is:\n",
      "3 Matrix1 is:\n",
      "4 \n",
      "Matrix2 is:\n",
      "10 Matrix2 is:\n",
      "20 \n",
      "Matrix2 is:\n",
      "30 Matrix2 is:\n",
      "40 \n",
      "After addition of two matrices, the result is:\n",
      "11 22 \n",
      "33 44 \n",
      "\n",
      "After subtraction of two matrices, the result is:\n",
      "-9 -18 \n",
      "-27 -36 \n"
     ]
    }
   ],
   "source": [
    "row = int(input(\"Enter the number of rows of matrix: \"))\n",
    "col = int(input(\"Enter the number of columns of matrix: \"))\n",
    "\n",
    "print(\"Matrix1 is:\")\n",
    "matrix1 = [[int(input()) for i in range(col)] for j in range(row)]\n",
    "for i in range(row):\n",
    "    for j in range(col):\n",
    "        print(matrix1[i][j], end=\" \")\n",
    "    print()\n",
    "\n",
    "print(\"Matrix2 is:\")\n",
    "matrix2 = [[int(input()) for i in range(col)] for j in range(row)]\n",
    "for i in range(row):\n",
    "    for j in range(col):\n",
    "        print(matrix2[i][j], end=\" \")\n",
    "    print()\n",
    "\n",
    "print(\"After addition of two matrices, the result is:\")\n",
    "resultaddition = [[0 for i in range(col)] for j in range(row)]\n",
    "for i in range(row):\n",
    "    for j in range(col):\n",
    "        resultaddition[i][j] = matrix1[i][j] + matrix2[i][j]\n",
    "        print(resultaddition[i][j], end=\" \")\n",
    "    print()\n",
    "\n",
    "print(\"\\nAfter subtraction of two matrices, the result is:\")\n",
    "resultaddition = [[0 for i in range(col)] for j in range(row)]\n",
    "for i in range(row):\n",
    "    for j in range(col):\n",
    "        resultaddition[i][j] = matrix1[i][j] - matrix2[i][j]\n",
    "        print(resultaddition[i][j], end=\" \")\n",
    "    print()"
   ]
  },
  {
   "cell_type": "markdown",
   "id": "8482f234",
   "metadata": {},
   "source": [
    "33. Write a program that calculates the greatest common divisor (GCD) of two numbers using the Euclidean algorithm."
   ]
  },
  {
   "cell_type": "code",
   "execution_count": 30,
   "id": "d70b808b",
   "metadata": {},
   "outputs": [
    {
     "name": "stdout",
     "output_type": "stream",
     "text": [
      "The GCD of 15 and 90 is 15\n"
     ]
    }
   ],
   "source": [
    "def computeGCD(a,b):\n",
    "    if b == 0:\n",
    "        return a\n",
    "    else:\n",
    "        return computeGCD(b, a%b)\n",
    "\n",
    "num1 = int(input(\"Enter first number: \"))\n",
    "num2 = int(input(\"Enter second number: \"))\n",
    "result = computeGCD(num1,num2)\n",
    "print(f\"The GCD of {num1} and {num2} is {result}\")"
   ]
  },
  {
   "cell_type": "markdown",
   "id": "be2082dc",
   "metadata": {},
   "source": [
    "34. Build a program that performs matrix multiplication using nested loops and conditional statements."
   ]
  },
  {
   "cell_type": "code",
   "execution_count": 21,
   "id": "8c5af6e9",
   "metadata": {},
   "outputs": [
    {
     "name": "stdout",
     "output_type": "stream",
     "text": [
      "Matrix1 is:\n",
      "1 2 \n",
      "3 4 \n",
      "Matrix2 is:\n",
      "10 20 \n",
      "30 40 \n",
      "After multiplication of two matrices, the result is:\n",
      "10 40 \n",
      "90 160 \n"
     ]
    }
   ],
   "source": [
    "row = int(input(\"Enter the number of rows of matrix: \"))\n",
    "col = int(input(\"Enter the number of columns of matrix: \"))\n",
    "\n",
    "print(\"Matrix1 is:\")\n",
    "matrix1 = [[int(input()) for i in range(col)] for j in range(row)]\n",
    "for i in range(row):\n",
    "    for j in range(col):\n",
    "        print(matrix1[i][j], end=\" \")\n",
    "    print()\n",
    "\n",
    "print(\"Matrix2 is:\")\n",
    "matrix2 = [[int(input()) for i in range(col)] for j in range(row)]\n",
    "for i in range(row):\n",
    "    for j in range(col):\n",
    "        print(matrix2[i][j], end=\" \")\n",
    "    print()\n",
    "\n",
    "print(\"After multiplication of two matrices, the result is:\")\n",
    "resultaddition = [[0 for i in range(col)] for j in range(row)]\n",
    "for i in range(row):\n",
    "    for j in range(col):\n",
    "        resultaddition[i][j] = matrix1[i][j] * matrix2[i][j]\n",
    "        print(resultaddition[i][j], end=\" \")\n",
    "    print()"
   ]
  },
  {
   "cell_type": "markdown",
   "id": "8b3c7117",
   "metadata": {},
   "source": [
    "35. Create a program that simulates a basic text-based tic-tac-toe game against the computer."
   ]
  },
  {
   "cell_type": "code",
   "execution_count": 31,
   "id": "caec718a",
   "metadata": {},
   "outputs": [
    {
     "name": "stdout",
     "output_type": "stream",
     "text": [
      "   |   |  \n",
      "---+---+---\n",
      "   |   |  \n",
      "---+---+---\n",
      "   |   |  \n",
      " X |   |  \n",
      "---+---+---\n",
      " O |   |  \n",
      "---+---+---\n",
      "   |   |  \n",
      "Invalid move. Try again.\n",
      "Invalid move. Try again.\n",
      "Invalid move. Try again.\n",
      "Invalid move. Try again.\n",
      " X | X |  \n",
      "---+---+---\n",
      " O |   |  \n",
      "---+---+---\n",
      "   |   | O\n",
      "Invalid move. Try again.\n",
      " X | X |  \n",
      "---+---+---\n",
      " O | X |  \n",
      "---+---+---\n",
      " O |   | O\n",
      " X | X | O\n",
      "---+---+---\n",
      " O | X | X\n",
      "---+---+---\n",
      " O |   | O\n",
      "Invalid move. Try again.\n",
      " X | X | O\n",
      "---+---+---\n",
      " O | X | X\n",
      "---+---+---\n",
      " O | X | O\n",
      "Congratulations! You win!\n"
     ]
    }
   ],
   "source": [
    "import random\n",
    "\n",
    "board = [\" \" for _ in range(9)]\n",
    "\n",
    "def print_board(board):\n",
    "    print(\" \" + board[0] + \" | \" + board[1] + \" | \" + board[2])\n",
    "    print(\"---+---+---\")\n",
    "    print(\" \" + board[3] + \" | \" + board[4] + \" | \" + board[5])\n",
    "    print(\"---+---+---\")\n",
    "    print(\" \" + board[6] + \" | \" + board[7] + \" | \" + board[8])\n",
    "\n",
    "def is_full(board):\n",
    "    return \" \" not in board\n",
    "\n",
    "def check_winner(board, player):\n",
    "    return (\n",
    "        (board[0] == board[1] == board[2] == player) or\n",
    "        (board[3] == board[4] == board[5] == player) or\n",
    "        (board[6] == board[7] == board[8] == player) or\n",
    "        (board[0] == board[3] == board[6] == player) or\n",
    "        (board[1] == board[4] == board[7] == player) or\n",
    "        (board[2] == board[5] == board[8] == player) or\n",
    "        (board[0] == board[4] == board[8] == player) or\n",
    "        (board[2] == board[4] == board[6] == player)\n",
    "    )\n",
    "\n",
    "def computer_move(board):\n",
    "    while True:\n",
    "        move = random.randint(0, 8)\n",
    "        if board[move] == \" \":\n",
    "            return move\n",
    "\n",
    "while True:\n",
    "    print_board(board)\n",
    "\n",
    "    while True:\n",
    "        player_move = int(input(\"Enter your move (1-9): \")) - 1\n",
    "        if player_move >= 0 and player_move < 9 and board[player_move] == \" \":\n",
    "            board[player_move] = \"X\"\n",
    "            break\n",
    "        else:\n",
    "            print(\"Invalid move. Try again.\")\n",
    "\n",
    "    if check_winner(board, \"X\"):\n",
    "        print_board(board)\n",
    "        print(\"Congratulations! You win!\")\n",
    "        break\n",
    "\n",
    "    if is_full(board):\n",
    "        print_board(board)\n",
    "        print(\"It's a draw!\")\n",
    "        break\n",
    "\n",
    "    computer_move_idx = computer_move(board)\n",
    "    board[computer_move_idx] = \"O\"\n",
    "\n",
    "    if check_winner(board, \"O\"):\n",
    "        print_board(board)\n",
    "        print(\"Computer wins! Better luck next time.\")\n",
    "        break"
   ]
  },
  {
   "cell_type": "markdown",
   "id": "194eb081",
   "metadata": {},
   "source": [
    "36. Write a program that generates Fibonacci numbers up to a specified term using iterative methods."
   ]
  },
  {
   "cell_type": "code",
   "execution_count": 32,
   "id": "335353f2",
   "metadata": {},
   "outputs": [
    {
     "name": "stdout",
     "output_type": "stream",
     "text": [
      "Fibonacci Sequence:\n",
      "0 1 1 2 3 5 8 13 "
     ]
    }
   ],
   "source": [
    "def generate_fibonacci(n):\n",
    "    fibonacci_sequence = [0, 1]\n",
    "\n",
    "    while len(fibonacci_sequence) < n:\n",
    "        next_term = fibonacci_sequence[-1] + fibonacci_sequence[-2]\n",
    "        fibonacci_sequence.append(next_term)\n",
    "\n",
    "    return fibonacci_sequence\n",
    "\n",
    "n = int(input(\"Enter the number of Fibonacci terms to generate: \"))\n",
    "\n",
    "if n <= 0:\n",
    "    print(\"Please enter a positive integer.\")\n",
    "else:\n",
    "    fibonacci_sequence = generate_fibonacci(n)\n",
    "    print(\"Fibonacci Sequence:\")\n",
    "    for term in fibonacci_sequence:\n",
    "        print(term, end=\" \")"
   ]
  },
  {
   "cell_type": "markdown",
   "id": "1e6cac86",
   "metadata": {},
   "source": [
    "37. Develop a program that calculates the nth term of the Fibonacci sequence using memoization."
   ]
  },
  {
   "cell_type": "code",
   "execution_count": 33,
   "id": "6e6ebd4f",
   "metadata": {},
   "outputs": [
    {
     "name": "stdout",
     "output_type": "stream",
     "text": [
      "The 9th Fibonacci number is: 34\n"
     ]
    }
   ],
   "source": [
    "fib_dict = {}\n",
    "\n",
    "def fibonacci(n):\n",
    "    if n in fib_dict:\n",
    "        return fib_dict[n]\n",
    "\n",
    "    if n <= 1:\n",
    "        result = n\n",
    "    else:\n",
    "        result = fibonacci(n - 1) + fibonacci(n - 2)\n",
    "\n",
    "    fib_dict[n] = result\n",
    "    return result\n",
    "\n",
    "n = int(input(\"Enter the value of n for the nth Fibonacci number: \"))\n",
    "\n",
    "if n < 0:\n",
    "    print(\"Please enter a non-negative integer.\")\n",
    "else:\n",
    "    result = fibonacci(n)\n",
    "    print(f\"The {n}th Fibonacci number is: {result}\")"
   ]
  },
  {
   "cell_type": "markdown",
   "id": "7419fa9a",
   "metadata": {},
   "source": [
    "38. Create a program that generates a calendar for a given month and year using conditional statements."
   ]
  },
  {
   "cell_type": "code",
   "execution_count": 14,
   "id": "9cbd0fa8",
   "metadata": {},
   "outputs": [
    {
     "name": "stdout",
     "output_type": "stream",
     "text": [
      "The Calendar of:       March 1998\n",
      "Mo Tu We Th Fr Sa Su\n",
      "                   1\n",
      " 2  3  4  5  6  7  8\n",
      " 9 10 11 12 13 14 15\n",
      "16 17 18 19 20 21 22\n",
      "23 24 25 26 27 28 29\n",
      "30 31\n",
      "\n"
     ]
    }
   ],
   "source": [
    "import calendar\n",
    "\n",
    "year = int(input(\"Enter the year: \"))\n",
    "month = int(input(\"Enter the month in digit form (Eg. 1, 2, 3, 4, etc.): \"))\n",
    "\n",
    "print(\"The Calendar of: \", calendar.month(year, month)) "
   ]
  },
  {
   "cell_type": "markdown",
   "id": "2b92a281",
   "metadata": {},
   "source": [
    "39. Build a program that simulates a basic text-based blackjack game against the computer."
   ]
  },
  {
   "cell_type": "code",
   "execution_count": null,
   "id": "9800cd8f",
   "metadata": {},
   "outputs": [],
   "source": []
  },
  {
   "cell_type": "markdown",
   "id": "10ad0544",
   "metadata": {},
   "source": [
    "40. Write a program that generates the prime factors of a given number using trial division."
   ]
  },
  {
   "cell_type": "code",
   "execution_count": 34,
   "id": "def78b7f",
   "metadata": {},
   "outputs": [
    {
     "name": "stdout",
     "output_type": "stream",
     "text": [
      "Prime factors of 2: [2]\n"
     ]
    }
   ],
   "source": [
    "def prime_factors(n):\n",
    "    factors = []\n",
    "    divisor = 2\n",
    "\n",
    "    while divisor <= n:\n",
    "        if n % divisor == 0:\n",
    "            factors.append(divisor)\n",
    "            n = n // divisor  \n",
    "        else:\n",
    "            divisor += 1\n",
    "\n",
    "    return factors\n",
    "\n",
    "num = int(input(\"Enter a number: \"))\n",
    "\n",
    "if num <= 0:\n",
    "    print(\"Please enter a positive integer.\")\n",
    "else:\n",
    "    factors = prime_factors(num)\n",
    "    if len(factors) == 0:\n",
    "        print(f\"{num} has no prime factors.\")\n",
    "    else:\n",
    "        print(f\"Prime factors of {num}: {factors}\")"
   ]
  }
 ],
 "metadata": {
  "kernelspec": {
   "display_name": "Python 3 (ipykernel)",
   "language": "python",
   "name": "python3"
  },
  "language_info": {
   "codemirror_mode": {
    "name": "ipython",
    "version": 3
   },
   "file_extension": ".py",
   "mimetype": "text/x-python",
   "name": "python",
   "nbconvert_exporter": "python",
   "pygments_lexer": "ipython3",
   "version": "3.11.4"
  }
 },
 "nbformat": 4,
 "nbformat_minor": 5
}
